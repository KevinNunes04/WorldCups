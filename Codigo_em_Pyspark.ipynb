{
  "nbformat": 4,
  "nbformat_minor": 0,
  "metadata": {
    "colab": {
      "provenance": []
    },
    "kernelspec": {
      "name": "python3",
      "display_name": "Python 3"
    },
    "language_info": {
      "name": "python"
    }
  },
  "cells": [
    {
      "cell_type": "code",
      "execution_count": null,
      "metadata": {
        "id": "wwbcYYYKLAJy"
      },
      "outputs": [],
      "source": [
        "!apt-get install openjdk-8-jdk-headless -qq > /dev/null\n",
        "!wget -q https://archive.apache.org/dist/spark/spark-3.1.2/spark-3.1.2-bin-hadoop2.7.tgz\n",
        "!tar xf spark-3.1.2-bin-hadoop2.7.tgz"
      ]
    },
    {
      "cell_type": "code",
      "source": [
        "import os\n",
        "os.environ[\"JAVA_HOME\"] = \"/usr/lib/jvm/java-8-openjdk-amd64\"\n",
        "os.environ[\"SPARK_HOME\"] =\"/content/spark-3.1.2-bin-hadoop2.7\"\n",
        "!pip install -q findspark\n",
        "import findspark\n",
        "findspark.init()\n",
        "from pyspark.sql import SparkSession\n",
        "sc = SparkSession.builder.master('local[*]').getOrCreate()\n",
        "sc"
      ],
      "metadata": {
        "colab": {
          "base_uri": "https://localhost:8080/",
          "height": 219
        },
        "collapsed": true,
        "id": "7asfZAxZLHzl",
        "outputId": "69fb3d57-9256-4391-a6c1-9515f32d1a26"
      },
      "execution_count": null,
      "outputs": [
        {
          "output_type": "execute_result",
          "data": {
            "text/plain": [
              "<pyspark.sql.session.SparkSession at 0x7dd974210a90>"
            ],
            "text/html": [
              "\n",
              "            <div>\n",
              "                <p><b>SparkSession - in-memory</b></p>\n",
              "                \n",
              "        <div>\n",
              "            <p><b>SparkContext</b></p>\n",
              "\n",
              "            <p><a href=\"http://0ffa81378ab4:4040\">Spark UI</a></p>\n",
              "\n",
              "            <dl>\n",
              "              <dt>Version</dt>\n",
              "                <dd><code>v3.1.2</code></dd>\n",
              "              <dt>Master</dt>\n",
              "                <dd><code>local[*]</code></dd>\n",
              "              <dt>AppName</dt>\n",
              "                <dd><code>pyspark-shell</code></dd>\n",
              "            </dl>\n",
              "        </div>\n",
              "        \n",
              "            </div>\n",
              "        "
            ]
          },
          "metadata": {},
          "execution_count": 2
        }
      ]
    },
    {
      "cell_type": "code",
      "source": [
        "!wget --continue https://github.com/jonates/opendata/blob/master/WorldCup/WorldCups.csv"
      ],
      "metadata": {
        "colab": {
          "base_uri": "https://localhost:8080/"
        },
        "collapsed": true,
        "id": "dvaDP8YuLQ7u",
        "outputId": "b5eddea1-1331-4045-ff6d-649bf03ae79d"
      },
      "execution_count": null,
      "outputs": [
        {
          "output_type": "stream",
          "name": "stdout",
          "text": [
            "--2024-06-08 23:27:16--  https://github.com/jonates/opendata/blob/master/WorldCup/WorldCups.csv\n",
            "Resolving github.com (github.com)... 140.82.116.4\n",
            "Connecting to github.com (github.com)|140.82.116.4|:443... connected.\n",
            "HTTP request sent, awaiting response... 200 OK\n",
            "Length: unspecified [text/html]\n",
            "Saving to: ‘WorldCups.csv’\n",
            "\n",
            "\rWorldCups.csv           [<=>                 ]       0  --.-KB/s               \rWorldCups.csv           [ <=>                ] 157.03K  --.-KB/s    in 0.02s   \n",
            "\n",
            "2024-06-08 23:27:17 (6.85 MB/s) - ‘WorldCups.csv’ saved [160802]\n",
            "\n"
          ]
        }
      ]
    },
    {
      "cell_type": "code",
      "source": [
        "WorldCups = sc.read.csv(\n",
        "    path = \"/content/WorldCups.csv\",\n",
        "    inferSchema = True,\n",
        "    header = True,\n",
        "    sep =';',\n",
        "    encoding = \"UTF-8\"\n",
        ")"
      ],
      "metadata": {
        "id": "WZ5pqyBRLet_"
      },
      "execution_count": null,
      "outputs": []
    },
    {
      "cell_type": "code",
      "source": [
        "type(WorldCups)"
      ],
      "metadata": {
        "collapsed": true,
        "colab": {
          "base_uri": "https://localhost:8080/",
          "height": 188
        },
        "id": "OsAOJafCLjXW",
        "outputId": "a810e14b-b087-40d6-ad36-2730ba32cabb"
      },
      "execution_count": null,
      "outputs": [
        {
          "output_type": "execute_result",
          "data": {
            "text/plain": [
              "pyspark.sql.dataframe.DataFrame"
            ],
            "text/html": [
              "<div style=\"max-width:800px; border: 1px solid var(--colab-border-color);\"><style>\n",
              "      pre.function-repr-contents {\n",
              "        overflow-x: auto;\n",
              "        padding: 8px 12px;\n",
              "        max-height: 500px;\n",
              "      }\n",
              "\n",
              "      pre.function-repr-contents.function-repr-contents-collapsed {\n",
              "        cursor: pointer;\n",
              "        max-height: 100px;\n",
              "      }\n",
              "    </style>\n",
              "    <pre style=\"white-space: initial; background:\n",
              "         var(--colab-secondary-surface-color); padding: 8px 12px;\n",
              "         border-bottom: 1px solid var(--colab-border-color);\"><b>pyspark.sql.dataframe.DataFrame</b><br/>def __init__(jdf, sql_ctx)</pre><pre class=\"function-repr-contents function-repr-contents-collapsed\" style=\"\"><a class=\"filepath\" style=\"display:none\" href=\"#\">/content/spark-3.1.2-bin-hadoop2.7/python/pyspark/sql/dataframe.py</a>A distributed collection of data grouped into named columns.\n",
              "\n",
              "A :class:`DataFrame` is equivalent to a relational table in Spark SQL,\n",
              "and can be created using various functions in :class:`SparkSession`::\n",
              "\n",
              "    people = spark.read.parquet(&quot;...&quot;)\n",
              "\n",
              "Once created, it can be manipulated using the various domain-specific-language\n",
              "(DSL) functions defined in: :class:`DataFrame`, :class:`Column`.\n",
              "\n",
              "To select a column from the :class:`DataFrame`, use the apply method::\n",
              "\n",
              "    ageCol = people.age\n",
              "\n",
              "A more concrete example::\n",
              "\n",
              "    # To create DataFrame using SparkSession\n",
              "    people = spark.read.parquet(&quot;...&quot;)\n",
              "    department = spark.read.parquet(&quot;...&quot;)\n",
              "\n",
              "    people.filter(people.age &gt; 30).join(department, people.deptId == department.id) \\\n",
              "      .groupBy(department.name, &quot;gender&quot;).agg({&quot;salary&quot;: &quot;avg&quot;, &quot;age&quot;: &quot;max&quot;})\n",
              "\n",
              ".. versionadded:: 1.3.0</pre>\n",
              "      <script>\n",
              "      if (google.colab.kernel.accessAllowed && google.colab.files && google.colab.files.view) {\n",
              "        for (const element of document.querySelectorAll('.filepath')) {\n",
              "          element.style.display = 'block'\n",
              "          element.onclick = (event) => {\n",
              "            event.preventDefault();\n",
              "            event.stopPropagation();\n",
              "            google.colab.files.view(element.textContent, 41);\n",
              "          };\n",
              "        }\n",
              "      }\n",
              "      for (const element of document.querySelectorAll('.function-repr-contents')) {\n",
              "        element.onclick = (event) => {\n",
              "          event.preventDefault();\n",
              "          event.stopPropagation();\n",
              "          element.classList.toggle('function-repr-contents-collapsed');\n",
              "        };\n",
              "      }\n",
              "      </script>\n",
              "      </div>"
            ]
          },
          "metadata": {},
          "execution_count": 5
        }
      ]
    },
    {
      "cell_type": "code",
      "source": [
        "from pyspark.sql import SparkSession\n",
        "\n",
        "spark = SparkSession.builder.getOrCreate()\n",
        "\n",
        "data = [\n",
        "    (1930, \"Uruguay\", \"Uruguay\", \"Argentina\", \"USA\", \"Yugoslavia\", 70, 13, 18, 434000, 24139),\n",
        "    (1934, \"Italy\", \"Italy\", \"Czechoslovakia\", \"Germany\", \"Austria\", 70, 16, 17, 395000, 23235),\n",
        "    (1938,'France','Italy','Hungary','Brazil','Sweden',84,15,18,483000,26833),\n",
        "    (1950,'Brazil','Uruguay','Brazil','Sweden','Spain',88,13,22,1337000,60773),\n",
        "    (1954,'Switzerland','Germany FR','Hungary','Austria','Uruguay',140,16,26,943000,36269),\n",
        "    (1958,'Sweden','Brazil','Sweden','France','Germany FR',126,16,35,868000,24800),\n",
        "    (1962,'Chile','Brazil','Czechoslovakia','Chile','Yugoslavia',89,16,32,776000,24250),\n",
        "    (1966,'England','England','Germany FR','Portugal','Soviet Union',89,16,32,1614677,50459),\n",
        "    (1970,'Mexico','Brazil','Italy','Germany FR','Uruguay',95,16,32,1673975,52312),\n",
        "    (1974,'Germany','Germany FR','Netherlands','Poland','Brazil',97,16,38,1774022,46685),\n",
        "    (1978,'Argentina','Argentina','Netherlands','Brazil', 'Italy' , 102, 16, 38, 1610215, 42374),\n",
        "    (1982,'Spain','Italy','Germany FR','Poland', 'France' , 146, 24, 52, 1856277, 35698),\n",
        "    (1986,'Mexico','Argentina','Germany FR','France','Belgium', 132, 24, 52, 2407431 , 46297),\n",
        "    (1990,'Italy','Germany FR','Argentina','Italy','England', 115, 24, 52, 2527348, 48411),\n",
        "    (1994,'USA','Brazil','Italy','Sweden','Bulgaria', 141, 24, 52, 3568567, 68626),\n",
        "    (1998,'France','France','Brazil','Croatia','Netherlands', 171, 32, 64, 2859234, 44676),\n",
        "    (2002,'Korea/Japan','Brazil','Germany','Turkey','Korea Republic', 161, 32, 64, 2724604, 42571),\n",
        "    (2006,'Germany','Italy','France','Germany','Portugal', 147, 32, 64, 3367000, 52609),\n",
        "    (2010,'South Africa','Spain','Netherlands','Germany','Uruguay', 145, 32, 64, 3167984, 49499),\n",
        "    (2014,'Brazil','Germany','Argentina','Netherlands','Brazil', 171, 32, 64, 3441450, 53772),\n",
        "    (2018,'Russia','France','Croatia','Belgium','England', 169, 32, 64, 3031768, 47371),\n",
        "\n",
        "\n",
        "]\n",
        "\n",
        "df = spark.createDataFrame(data, [\"Year\", \"Country\", \"Winner\", \"Runners-Up\", \"Third\", \"Fourth\", \"GoalsScored\", \"QualifiedTeams\", \"MatchesPlayed\", \"Attendance\", \"Attendance_per_Matches\"])\n",
        "\n",
        "df.show()"
      ],
      "metadata": {
        "colab": {
          "base_uri": "https://localhost:8080/"
        },
        "id": "bqTrawVELkd-",
        "outputId": "3a70270d-00b1-4239-efbf-7c2591b62902"
      },
      "execution_count": null,
      "outputs": [
        {
          "output_type": "stream",
          "name": "stdout",
          "text": [
            "+----+------------+----------+--------------+-----------+--------------+-----------+--------------+-------------+----------+----------------------+\n",
            "|Year|     Country|    Winner|    Runners-Up|      Third|        Fourth|GoalsScored|QualifiedTeams|MatchesPlayed|Attendance|Attendance_per_Matches|\n",
            "+----+------------+----------+--------------+-----------+--------------+-----------+--------------+-------------+----------+----------------------+\n",
            "|1930|     Uruguay|   Uruguay|     Argentina|        USA|    Yugoslavia|         70|            13|           18|    434000|                 24139|\n",
            "|1934|       Italy|     Italy|Czechoslovakia|    Germany|       Austria|         70|            16|           17|    395000|                 23235|\n",
            "|1938|      France|     Italy|       Hungary|     Brazil|        Sweden|         84|            15|           18|    483000|                 26833|\n",
            "|1950|      Brazil|   Uruguay|        Brazil|     Sweden|         Spain|         88|            13|           22|   1337000|                 60773|\n",
            "|1954| Switzerland|Germany FR|       Hungary|    Austria|       Uruguay|        140|            16|           26|    943000|                 36269|\n",
            "|1958|      Sweden|    Brazil|        Sweden|     France|    Germany FR|        126|            16|           35|    868000|                 24800|\n",
            "|1962|       Chile|    Brazil|Czechoslovakia|      Chile|    Yugoslavia|         89|            16|           32|    776000|                 24250|\n",
            "|1966|     England|   England|    Germany FR|   Portugal|  Soviet Union|         89|            16|           32|   1614677|                 50459|\n",
            "|1970|      Mexico|    Brazil|         Italy| Germany FR|       Uruguay|         95|            16|           32|   1673975|                 52312|\n",
            "|1974|     Germany|Germany FR|   Netherlands|     Poland|        Brazil|         97|            16|           38|   1774022|                 46685|\n",
            "|1978|   Argentina| Argentina|   Netherlands|     Brazil|         Italy|        102|            16|           38|   1610215|                 42374|\n",
            "|1982|       Spain|     Italy|    Germany FR|     Poland|        France|        146|            24|           52|   1856277|                 35698|\n",
            "|1986|      Mexico| Argentina|    Germany FR|     France|       Belgium|        132|            24|           52|   2407431|                 46297|\n",
            "|1990|       Italy|Germany FR|     Argentina|      Italy|       England|        115|            24|           52|   2527348|                 48411|\n",
            "|1994|         USA|    Brazil|         Italy|     Sweden|      Bulgaria|        141|            24|           52|   3568567|                 68626|\n",
            "|1998|      France|    France|        Brazil|    Croatia|   Netherlands|        171|            32|           64|   2859234|                 44676|\n",
            "|2002| Korea/Japan|    Brazil|       Germany|     Turkey|Korea Republic|        161|            32|           64|   2724604|                 42571|\n",
            "|2006|     Germany|     Italy|        France|    Germany|      Portugal|        147|            32|           64|   3367000|                 52609|\n",
            "|2010|South Africa|     Spain|   Netherlands|    Germany|       Uruguay|        145|            32|           64|   3167984|                 49499|\n",
            "|2014|      Brazil|   Germany|     Argentina|Netherlands|        Brazil|        171|            32|           64|   3441450|                 53772|\n",
            "+----+------------+----------+--------------+-----------+--------------+-----------+--------------+-------------+----------+----------------------+\n",
            "only showing top 20 rows\n",
            "\n"
          ]
        }
      ]
    }
  ]
}